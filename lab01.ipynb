{
  "nbformat": 4,
  "nbformat_minor": 0,
  "metadata": {
    "colab": {
      "provenance": []
    },
    "kernelspec": {
      "name": "python3",
      "display_name": "Python 3"
    },
    "language_info": {
      "name": "python"
    }
  },
  "cells": [
    {
      "cell_type": "code",
      "source": [
        "def part1(filename):\n",
        "  file= open(filename,\"r\")\n",
        "  lines= file.readlines()\n",
        "  file.close()\n",
        "  sizeParts= lines[0].replace(\",\", \" \").split()\n",
        "  declaredNumRows,declaredNumCols= int(sizeParts[0]),int(sizeParts[1])\n",
        "  mazeGrid,startLine, goalLine= [],\"\",\"\"\n",
        "  for line in lines[1:]:\n",
        "      line= line.strip()\n",
        "      if line.lower().startswith(\"start\"):\n",
        "          startLine= line\n",
        "      elif line.lower().startswith(\"goal\"):\n",
        "          goalLine= line\n",
        "      elif line and not line.lower().startswith((\"start\",\"goal\")):\n",
        "          mazeGrid.append(list(line.replace(\" \", \"\")))\n",
        "  numRows= len(mazeGrid)\n",
        "  numCols= len(mazeGrid[0]) if numRows > 0 else 0\n",
        "  startStr= startLine.split(\":\")[1] if \":\" in startLine else startLine.split(\"=\")[1]\n",
        "  goalStr= goalLine.split(\":\")[1] if \":\" in goalLine else goalLine.split(\"=\")[1]\n",
        "  startRow, startCol= map(int, startStr.strip().strip(\"()\").split(\",\"))\n",
        "  goalRow, goalCol= map(int, goalStr.strip().strip(\"()\").split(\",\"))\n",
        "  movement=[(-1, 0, \"U\"), (1, 0, \"D\"), (0, -1,\"L\"), (0, 1, \"R\")]\n",
        "  openSet=[(abs(startRow- goalRow)+abs(startCol-goalCol),0,startRow,startCol,\"\")]\n",
        "  visited=[[False] * numCols for _ in range(numRows)]\n",
        "  foundPath= False\n",
        "  #A* loop\n",
        "  while openSet:\n",
        "      minIdx= min(range(len(openSet)), key=lambda i: openSet[i][0])\n",
        "      estTotalCost, actualCost, row, col, path = openSet.pop(minIdx)\n",
        "      if row== goalRow and col== goalCol:\n",
        "          foundPath= True\n",
        "          finalCost= actualCost\n",
        "          finalPath= path\n",
        "          break\n",
        "      if visited[row][col]:\n",
        "          continue\n",
        "      visited[row][col]= True\n",
        "      for dr,dc, action in movement:\n",
        "          newRow,newCol= row + dr, col+ dc\n",
        "          if 0 <= newRow <numRows and 0 <= newCol <numCols:\n",
        "              if mazeGrid[newRow][newCol] == \"0\" and not visited[newRow][newCol]:\n",
        "                  h= abs(newRow - goalRow) + abs(newCol -goalCol)\n",
        "                  openSet.append((actualCost +1 + h, actualCost + 1, newRow, newCol, path + action))\n",
        "  if foundPath==True:\n",
        "      moves = {\"U\": \"up\", \"D\": \"down\", \"L\": \"left\", \"R\": \"right\"}\n",
        "      steps= [moves[ch] for ch in finalPath]\n",
        "      for i in range(0, len(steps), 5):\n",
        "          print(\" -> \".join(steps[i:i+5]))\n",
        "      print(\"Total Steps:\", finalCost)\n",
        "  else:\n",
        "      print(\"No path found.\")"
      ],
      "metadata": {
        "id": "npXU8PuCGpLc"
      },
      "execution_count": 83,
      "outputs": []
    },
    {
      "cell_type": "code",
      "source": [
        "def part2(filename):\n",
        "  file= open(filename,\"r\")\n",
        "  lines= file.readlines()\n",
        "  file.close()\n",
        "  first= lines[0].strip().split()\n",
        "  n= int(first[0])\n",
        "  m= int(first[1])\n",
        "  second= lines[1].strip().split()\n",
        "  start= int(second[0])\n",
        "  goal= int(second[1])\n",
        "  heuristic= [0] * (n + 1)\n",
        "  for i in range(2, 2 + n):\n",
        "      parts= lines[i].strip().split()\n",
        "      node= int(parts[0])\n",
        "      h= int(parts[1])\n",
        "      heuristic[node] = h\n",
        "  adj= []\n",
        "  i= 0\n",
        "  while i<= n:\n",
        "      adj.append([])\n",
        "      i= i + 1\n",
        "  j= 2 + n\n",
        "  while j < len(lines):\n",
        "      parts = lines[j].strip().split()\n",
        "      u= int(parts[0])\n",
        "      v= int(parts[1])\n",
        "      adj[u].append(v)\n",
        "      adj[v].append(u)\n",
        "      j= j + 1\n",
        "  dist= []\n",
        "  k= 0\n",
        "  while k<= n:\n",
        "      dist.append(-1)\n",
        "      k= k + 1\n",
        "  queue= []\n",
        "  queue.append(goal)\n",
        "  dist[goal]= 0\n",
        "  front= 0\n",
        "  while front< len(queue):\n",
        "      u= queue[front]\n",
        "      front= front + 1\n",
        "      l= 0\n",
        "      while l < len(adj[u]):\n",
        "          v= adj[u][l]\n",
        "          if dist[v]== -1:\n",
        "              dist[v]= dist[u] + 1\n",
        "              queue.append(v)\n",
        "          l= l + 1\n",
        "  inadmissible= []\n",
        "  x= 1\n",
        "  while x<= n:\n",
        "      if heuristic[x]> dist[x]:\n",
        "          inadmissible.append(x)\n",
        "      x=x +1\n",
        "  if len(inadmissible) == 0:\n",
        "      print(\"The heuristic values are admissible.\")\n",
        "  else:\n",
        "      print(\"The heuristic values are inadmissible.\")\n",
        "      print(\"Here nodes\", end=\" \")\n",
        "      y= 0\n",
        "      while y < len(inadmissible):\n",
        "          print(inadmissible[y], end=\",\")\n",
        "          y = y + 1\n",
        "      print(f\" are inadmissible.\")\n"
      ],
      "metadata": {
        "id": "ezW5_-YmRX6m"
      },
      "execution_count": 81,
      "outputs": []
    },
    {
      "cell_type": "code",
      "source": [
        "part1(\"input1_1.txt\")"
      ],
      "metadata": {
        "colab": {
          "base_uri": "https://localhost:8080/"
        },
        "id": "VLmXuh2uRtEO",
        "outputId": "d3b1fa62-75dc-4b50-a043-307bd23662c3"
      },
      "execution_count": 84,
      "outputs": [
        {
          "output_type": "stream",
          "name": "stdout",
          "text": [
            "down -> down -> right -> down -> down\n",
            "right -> down\n",
            "Total Steps: 7\n"
          ]
        }
      ]
    },
    {
      "cell_type": "code",
      "source": [
        "part2(\"input2_2.txt\")"
      ],
      "metadata": {
        "colab": {
          "base_uri": "https://localhost:8080/"
        },
        "id": "Xv2VmGY_RtOe",
        "outputId": "857e71ee-4e84-44fc-b8f7-08f1e23728cf"
      },
      "execution_count": 82,
      "outputs": [
        {
          "output_type": "stream",
          "name": "stdout",
          "text": [
            "The heuristic values are inadmissible.\n",
            "Here nodes 1,2,3,4,5, are inadmissible.\n"
          ]
        }
      ]
    }
  ]
}