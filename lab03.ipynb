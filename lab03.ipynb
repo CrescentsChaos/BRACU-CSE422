{
  "nbformat": 4,
  "nbformat_minor": 0,
  "metadata": {
    "colab": {
      "provenance": []
    },
    "kernelspec": {
      "name": "python3",
      "display_name": "Python 3"
    },
    "language_info": {
      "name": "python"
    }
  },
  "cells": [
    {
      "cell_type": "code",
      "source": [
        "inf=float('inf')\n",
        "\n",
        "def calcUtility(gene,target,weights):\n",
        "    score=0\n",
        "    n=max(len(gene),len(target))\n",
        "    for i in range(n):\n",
        "        wi=weights[i] if i<len(weights) else 1\n",
        "        gi=ord(gene[i]) if i<len(gene) else 0\n",
        "        ti=ord(target[i]) if i<len(target) else 0\n",
        "        score += wi * abs(gi-ti)\n",
        "    return -score\n",
        "\n",
        "def minimax(pool,target,weights,isMaxTurn,alpha,beta,sequence,sid,booster):\n",
        "    if not pool:\n",
        "        return calcUtility(sequence,target,weights),sequence\n",
        "\n",
        "    if isMaxTurn:\n",
        "        bestVal=-inf\n",
        "        bestSeq=\"\"\n",
        "        for i,nucleotide in enumerate(pool):\n",
        "            newPool=pool[:i] + pool[i+1:]\n",
        "            newSeq=sequence + nucleotide\n",
        "\n",
        "            newWeights=weights[:]\n",
        "            newBooster=booster\n",
        "\n",
        "            if nucleotide == 'S' and booster is None:\n",
        "                factor=int(sid[:2]) / 100\n",
        "                sIndex=len(sequence)\n",
        "                for j in range(sIndex,len(newWeights)):\n",
        "                    newWeights[j] *= factor\n",
        "                newBooster=factor\n",
        "\n",
        "            val,seq=minimax(newPool,target,newWeights,False,alpha,beta,newSeq,sid,newBooster)\n",
        "\n",
        "            if val > bestVal:\n",
        "                bestVal=val\n",
        "                bestSeq=seq\n",
        "            alpha=max(alpha,val)\n",
        "            if beta <= alpha:\n",
        "                break\n",
        "        return bestVal,bestSeq\n",
        "    else:\n",
        "        bestVal=inf\n",
        "        bestSeq=\"\"\n",
        "        for i,nucleotide in enumerate(pool):\n",
        "            newPool=pool[:i] + pool[i+1:]\n",
        "            newSeq=sequence + nucleotide\n",
        "            val,seq=minimax(newPool,target,weights,True,alpha,beta,newSeq,sid,booster)\n",
        "            if val<bestVal:\n",
        "                bestVal=val\n",
        "                bestSeq=seq\n",
        "            beta=min(beta,val)\n",
        "            if beta<= alpha:\n",
        "                break\n",
        "        return bestVal,bestSeq"
      ],
      "metadata": {
        "id": "Ldcq9oupNW6S"
      },
      "execution_count": null,
      "outputs": []
    },
    {
      "cell_type": "markdown",
      "source": [
        "Pool: A,T,C,G\n",
        "Target: ATGC\n",
        "Student ID: 1 8 1 0 4 0 5 2\n",
        "Best gene sequence generated: AGCT\n",
        "Utility score: -54"
      ],
      "metadata": {
        "id": "Ysp6j5vz8Ty6"
      }
    },
    {
      "cell_type": "code",
      "source": [
        "def task1(pool,target,sid):\n",
        "    sidDigits=[int(x) for x in sid.split()]\n",
        "    weights=sidDigits[-len(target):]\n",
        "\n",
        "    val,seq=minimax(pool,target,weights,True,-inf,inf,\"\",sid,None)\n",
        "    print(f\"Best gene sequence generated: {seq}\")\n",
        "    print(f\"Utility score: {val}\")\n",
        "pool=input(\"Pool: \").strip().split(\",\")\n",
        "target=input(\"Target: \").strip()\n",
        "sid=input(\"Student ID: \").strip()\n",
        "# Task I\n",
        "task1(pool,target,sid)"
      ],
      "metadata": {
        "colab": {
          "base_uri": "https://localhost:8080/"
        },
        "id": "7ysTCpDaD8bg",
        "outputId": "d3a41871-503f-40bd-c50b-4cc77f0c3b1d"
      },
      "execution_count": null,
      "outputs": [
        {
          "output_type": "stream",
          "name": "stdout",
          "text": [
            "Pool: A,T,C,G\n",
            "Target: ATGC\n",
            "Student ID: 1 8 1 0 4 0 5 2\n",
            "Best gene sequence generated: AGCT\n",
            "Utility score: -54\n"
          ]
        }
      ]
    },
    {
      "cell_type": "code",
      "source": [
        "def task2(poolInput,target,sid):\n",
        "    sidStr=\"\".join(sid.split())\n",
        "    sidDigits=[int(d) for d in sidStr]\n",
        "    weights=sidDigits[-len(target):]\n",
        "\n",
        "    valNoS,seqNoS=minimax(poolInput,target,weights,True,-inf,inf,\"\",sidStr,None)\n",
        "\n",
        "    poolWithS=poolInput + ['S']\n",
        "    valWithS,seqWithS=minimax(poolWithS,target,weights,True,-inf,inf,\"\",sidStr,None)\n",
        "    if valWithS > valNoS:\n",
        "        print(\"YES\")\n",
        "    else:\n",
        "        print(\"NO\")\n",
        "    print(\"With special nucleotide\")\n",
        "    print(f\"Best gene sequence generated: {seqWithS}\")\n",
        "    print(f\"Utility score: {round(valWithS,2)}\")\n",
        "\n",
        "poolInput=input(\"Pool: \").strip().split(',')\n",
        "target=input(\"Target: \").strip()\n",
        "sid=input(\"Student ID: \").strip()\n",
        "# Task II\n",
        "task2(poolInput,target,sid)"
      ],
      "metadata": {
        "colab": {
          "base_uri": "https://localhost:8080/"
        },
        "id": "WZt6Bye4D8io",
        "outputId": "d991ebd4-a8af-4570-902d-782b28db0860"
      },
      "execution_count": null,
      "outputs": [
        {
          "output_type": "stream",
          "name": "stdout",
          "text": [
            "Pool: A,T,C,G\n",
            "Target: ATGC\n",
            "Student ID: 1 8 1 0 4 0 5 2\n",
            "NO\n",
            "With special nucleotide\n",
            "Best gene sequence generated: SCTAG\n",
            "Utility score: -96.38\n"
          ]
        }
      ]
    }
  ]
}